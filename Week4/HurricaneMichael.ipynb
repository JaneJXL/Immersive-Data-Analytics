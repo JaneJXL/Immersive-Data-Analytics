{
 "cells": [
  {
   "cell_type": "code",
   "execution_count": 1,
   "metadata": {},
   "outputs": [],
   "source": [
    "import pandas as pd\n",
    "import geopandas as gpd #used for transforming geolocation data\n",
    "import matplotlib.pyplot as plt\n",
    "import json\n",
    "\n",
    "from datetime import datetime  #to convert data to datetime that does not fall within the pandas.to_datetime function timeframe\n",
    "from shapely.geometry import Point  #transform latitude/longitude to geo-coordinate data\n",
    "from geopandas.tools import geocode #get the latitude/longitude for a given address\n",
    "from geopandas.tools import reverse_geocode  #get the address for a location using latitude/longitude\n",
    "\n",
    "%matplotlib inline"
   ]
  },
  {
   "cell_type": "code",
   "execution_count": 2,
   "metadata": {},
   "outputs": [
    {
     "data": {
      "text/html": [
       "<div>\n",
       "<style scoped>\n",
       "    .dataframe tbody tr th:only-of-type {\n",
       "        vertical-align: middle;\n",
       "    }\n",
       "\n",
       "    .dataframe tbody tr th {\n",
       "        vertical-align: top;\n",
       "    }\n",
       "\n",
       "    .dataframe thead th {\n",
       "        text-align: right;\n",
       "    }\n",
       "</style>\n",
       "<table border=\"1\" class=\"dataframe\">\n",
       "  <thead>\n",
       "    <tr style=\"text-align: right;\">\n",
       "      <th></th>\n",
       "      <th>AdvisoryNumber</th>\n",
       "      <th>Date</th>\n",
       "      <th>Lat</th>\n",
       "      <th>Long</th>\n",
       "      <th>Wind</th>\n",
       "      <th>Pres</th>\n",
       "      <th>Movement</th>\n",
       "      <th>Type</th>\n",
       "      <th>Name</th>\n",
       "      <th>Received</th>\n",
       "      <th>Forecaster</th>\n",
       "    </tr>\n",
       "  </thead>\n",
       "  <tbody>\n",
       "    <tr>\n",
       "      <th>0</th>\n",
       "      <td>1</td>\n",
       "      <td>10/6/2018 17:00</td>\n",
       "      <td>18.0</td>\n",
       "      <td>86.6</td>\n",
       "      <td>30</td>\n",
       "      <td>1006</td>\n",
       "      <td>NW at 6 MPH (325 deg)</td>\n",
       "      <td>Potential Tropical Cyclone</td>\n",
       "      <td>Fourteen</td>\n",
       "      <td>10/6/2018 16:50</td>\n",
       "      <td>Beven</td>\n",
       "    </tr>\n",
       "    <tr>\n",
       "      <th>1</th>\n",
       "      <td>1A</td>\n",
       "      <td>10/6/2018 20:00</td>\n",
       "      <td>18.3</td>\n",
       "      <td>86.6</td>\n",
       "      <td>30</td>\n",
       "      <td>1004</td>\n",
       "      <td>N at 6 MPH (360 deg)</td>\n",
       "      <td>Potential Tropical Cyclone</td>\n",
       "      <td>Fourteen</td>\n",
       "      <td>10/6/2018 19:32</td>\n",
       "      <td>Avila</td>\n",
       "    </tr>\n",
       "    <tr>\n",
       "      <th>2</th>\n",
       "      <td>2</td>\n",
       "      <td>10/6/2018 23:00</td>\n",
       "      <td>18.8</td>\n",
       "      <td>86.6</td>\n",
       "      <td>30</td>\n",
       "      <td>1004</td>\n",
       "      <td>N at 7 MPH (360 deg)</td>\n",
       "      <td>Potential Tropical Cyclone</td>\n",
       "      <td>Fourteen</td>\n",
       "      <td>10/6/2018 22:38</td>\n",
       "      <td>Avila</td>\n",
       "    </tr>\n",
       "    <tr>\n",
       "      <th>3</th>\n",
       "      <td>2A</td>\n",
       "      <td>10/7/2018 2:00</td>\n",
       "      <td>18.4</td>\n",
       "      <td>87.1</td>\n",
       "      <td>35</td>\n",
       "      <td>1004</td>\n",
       "      <td>NW at 5 MPH (320 deg)</td>\n",
       "      <td>Potential Tropical Cyclone</td>\n",
       "      <td>Fourteen</td>\n",
       "      <td>10/7/2018 1:38</td>\n",
       "      <td>Berg</td>\n",
       "    </tr>\n",
       "    <tr>\n",
       "      <th>4</th>\n",
       "      <td>3</td>\n",
       "      <td>10/7/2018 5:00</td>\n",
       "      <td>18.6</td>\n",
       "      <td>86.9</td>\n",
       "      <td>35</td>\n",
       "      <td>1004</td>\n",
       "      <td>NNW at 3 MPH (340 deg)</td>\n",
       "      <td>Tropical Depression</td>\n",
       "      <td>FOURTEEN</td>\n",
       "      <td>10/7/2018 4:53</td>\n",
       "      <td>Berg</td>\n",
       "    </tr>\n",
       "  </tbody>\n",
       "</table>\n",
       "</div>"
      ],
      "text/plain": [
       "  AdvisoryNumber             Date   Lat  Long  Wind  Pres  \\\n",
       "0              1  10/6/2018 17:00  18.0  86.6    30  1006   \n",
       "1             1A  10/6/2018 20:00  18.3  86.6    30  1004   \n",
       "2              2  10/6/2018 23:00  18.8  86.6    30  1004   \n",
       "3             2A   10/7/2018 2:00  18.4  87.1    35  1004   \n",
       "4              3   10/7/2018 5:00  18.6  86.9    35  1004   \n",
       "\n",
       "                 Movement                        Type      Name  \\\n",
       "0   NW at 6 MPH (325 deg)  Potential Tropical Cyclone  Fourteen   \n",
       "1    N at 6 MPH (360 deg)  Potential Tropical Cyclone  Fourteen   \n",
       "2    N at 7 MPH (360 deg)  Potential Tropical Cyclone  Fourteen   \n",
       "3   NW at 5 MPH (320 deg)  Potential Tropical Cyclone  Fourteen   \n",
       "4  NNW at 3 MPH (340 deg)         Tropical Depression  FOURTEEN   \n",
       "\n",
       "          Received Forecaster  \n",
       "0  10/6/2018 16:50      Beven  \n",
       "1  10/6/2018 19:32      Avila  \n",
       "2  10/6/2018 22:38      Avila  \n",
       "3   10/7/2018 1:38       Berg  \n",
       "4   10/7/2018 4:53       Berg  "
      ]
     },
     "execution_count": 2,
     "metadata": {},
     "output_type": "execute_result"
    }
   ],
   "source": [
    "#load the hurricane data\n",
    "hurricaneM_df = pd.read_csv(\"datasets/HurricaneMichael.csv\",encoding = \"latin-1\")\n",
    "hurricaneM_df.head()"
   ]
  },
  {
   "cell_type": "code",
   "execution_count": 3,
   "metadata": {},
   "outputs": [
    {
     "data": {
      "text/plain": [
       "AdvisoryNumber    45\n",
       "Date              45\n",
       "Lat               45\n",
       "Long              45\n",
       "Wind              45\n",
       "Pres              45\n",
       "Movement          45\n",
       "Type              45\n",
       "Name              45\n",
       "Received          45\n",
       "Forecaster        45\n",
       "dtype: int64"
      ]
     },
     "execution_count": 3,
     "metadata": {},
     "output_type": "execute_result"
    }
   ],
   "source": [
    "hurricaneM_df.count()"
   ]
  },
  {
   "cell_type": "code",
   "execution_count": 4,
   "metadata": {},
   "outputs": [
    {
     "data": {
      "text/plain": [
       "AdvisoryNumber     object\n",
       "Date               object\n",
       "Lat               float64\n",
       "Long              float64\n",
       "Wind                int64\n",
       "Pres                int64\n",
       "Movement           object\n",
       "Type               object\n",
       "Name               object\n",
       "Received           object\n",
       "Forecaster         object\n",
       "dtype: object"
      ]
     },
     "execution_count": 4,
     "metadata": {},
     "output_type": "execute_result"
    }
   ],
   "source": [
    "hurricaneM_df.dtypes"
   ]
  },
  {
   "cell_type": "code",
   "execution_count": 5,
   "metadata": {},
   "outputs": [],
   "source": [
    "#change year column into a string\n",
    "#need to use string type for getYear function below\n",
    "hurricaneM_df['Date'] = hurricaneM_df['Date'].astype(str)"
   ]
  },
  {
   "cell_type": "code",
   "execution_count": 6,
   "metadata": {},
   "outputs": [],
   "source": [
    "#Longitude column data should be turned into negative values(data source listed longitude direction instead of positive/negative)\n",
    "#Use the following code to make the data correct\n",
    "hurricaneM_df['Long'] = 0 - hurricaneM_df['Long']"
   ]
  },
  {
   "cell_type": "code",
   "execution_count": 7,
   "metadata": {},
   "outputs": [],
   "source": [
    "#make a new column to hold the longitude & latitude as a list\n",
    "hurricaneM_df['Coordinates'] = list(hurricaneM_df[['Long', 'Lat']].values)"
   ]
  },
  {
   "cell_type": "code",
   "execution_count": 8,
   "metadata": {},
   "outputs": [],
   "source": [
    "#convert the coordinates to a geolocation type\n",
    "hurricaneM_df['Coordinates'] = hurricaneM_df['Coordinates'].apply(Point)"
   ]
  },
  {
   "cell_type": "code",
   "execution_count": 9,
   "metadata": {},
   "outputs": [
    {
     "data": {
      "text/html": [
       "<div>\n",
       "<style scoped>\n",
       "    .dataframe tbody tr th:only-of-type {\n",
       "        vertical-align: middle;\n",
       "    }\n",
       "\n",
       "    .dataframe tbody tr th {\n",
       "        vertical-align: top;\n",
       "    }\n",
       "\n",
       "    .dataframe thead th {\n",
       "        text-align: right;\n",
       "    }\n",
       "</style>\n",
       "<table border=\"1\" class=\"dataframe\">\n",
       "  <thead>\n",
       "    <tr style=\"text-align: right;\">\n",
       "      <th></th>\n",
       "      <th>AdvisoryNumber</th>\n",
       "      <th>Date</th>\n",
       "      <th>Lat</th>\n",
       "      <th>Long</th>\n",
       "      <th>Wind</th>\n",
       "      <th>Pres</th>\n",
       "      <th>Movement</th>\n",
       "      <th>Type</th>\n",
       "      <th>Name</th>\n",
       "      <th>Received</th>\n",
       "      <th>Forecaster</th>\n",
       "      <th>Coordinates</th>\n",
       "    </tr>\n",
       "  </thead>\n",
       "  <tbody>\n",
       "    <tr>\n",
       "      <th>0</th>\n",
       "      <td>1</td>\n",
       "      <td>10/6/2018 17:00</td>\n",
       "      <td>18.0</td>\n",
       "      <td>-86.6</td>\n",
       "      <td>30</td>\n",
       "      <td>1006</td>\n",
       "      <td>NW at 6 MPH (325 deg)</td>\n",
       "      <td>Potential Tropical Cyclone</td>\n",
       "      <td>Fourteen</td>\n",
       "      <td>10/6/2018 16:50</td>\n",
       "      <td>Beven</td>\n",
       "      <td>POINT (-86.59999999999999 18)</td>\n",
       "    </tr>\n",
       "    <tr>\n",
       "      <th>1</th>\n",
       "      <td>1A</td>\n",
       "      <td>10/6/2018 20:00</td>\n",
       "      <td>18.3</td>\n",
       "      <td>-86.6</td>\n",
       "      <td>30</td>\n",
       "      <td>1004</td>\n",
       "      <td>N at 6 MPH (360 deg)</td>\n",
       "      <td>Potential Tropical Cyclone</td>\n",
       "      <td>Fourteen</td>\n",
       "      <td>10/6/2018 19:32</td>\n",
       "      <td>Avila</td>\n",
       "      <td>POINT (-86.59999999999999 18.3)</td>\n",
       "    </tr>\n",
       "    <tr>\n",
       "      <th>2</th>\n",
       "      <td>2</td>\n",
       "      <td>10/6/2018 23:00</td>\n",
       "      <td>18.8</td>\n",
       "      <td>-86.6</td>\n",
       "      <td>30</td>\n",
       "      <td>1004</td>\n",
       "      <td>N at 7 MPH (360 deg)</td>\n",
       "      <td>Potential Tropical Cyclone</td>\n",
       "      <td>Fourteen</td>\n",
       "      <td>10/6/2018 22:38</td>\n",
       "      <td>Avila</td>\n",
       "      <td>POINT (-86.59999999999999 18.8)</td>\n",
       "    </tr>\n",
       "    <tr>\n",
       "      <th>3</th>\n",
       "      <td>2A</td>\n",
       "      <td>10/7/2018 2:00</td>\n",
       "      <td>18.4</td>\n",
       "      <td>-87.1</td>\n",
       "      <td>35</td>\n",
       "      <td>1004</td>\n",
       "      <td>NW at 5 MPH (320 deg)</td>\n",
       "      <td>Potential Tropical Cyclone</td>\n",
       "      <td>Fourteen</td>\n",
       "      <td>10/7/2018 1:38</td>\n",
       "      <td>Berg</td>\n",
       "      <td>POINT (-87.09999999999999 18.4)</td>\n",
       "    </tr>\n",
       "    <tr>\n",
       "      <th>4</th>\n",
       "      <td>3</td>\n",
       "      <td>10/7/2018 5:00</td>\n",
       "      <td>18.6</td>\n",
       "      <td>-86.9</td>\n",
       "      <td>35</td>\n",
       "      <td>1004</td>\n",
       "      <td>NNW at 3 MPH (340 deg)</td>\n",
       "      <td>Tropical Depression</td>\n",
       "      <td>FOURTEEN</td>\n",
       "      <td>10/7/2018 4:53</td>\n",
       "      <td>Berg</td>\n",
       "      <td>POINT (-86.90000000000001 18.6)</td>\n",
       "    </tr>\n",
       "  </tbody>\n",
       "</table>\n",
       "</div>"
      ],
      "text/plain": [
       "  AdvisoryNumber             Date   Lat  Long  Wind  Pres  \\\n",
       "0              1  10/6/2018 17:00  18.0 -86.6    30  1006   \n",
       "1             1A  10/6/2018 20:00  18.3 -86.6    30  1004   \n",
       "2              2  10/6/2018 23:00  18.8 -86.6    30  1004   \n",
       "3             2A   10/7/2018 2:00  18.4 -87.1    35  1004   \n",
       "4              3   10/7/2018 5:00  18.6 -86.9    35  1004   \n",
       "\n",
       "                 Movement                        Type      Name  \\\n",
       "0   NW at 6 MPH (325 deg)  Potential Tropical Cyclone  Fourteen   \n",
       "1    N at 6 MPH (360 deg)  Potential Tropical Cyclone  Fourteen   \n",
       "2    N at 7 MPH (360 deg)  Potential Tropical Cyclone  Fourteen   \n",
       "3   NW at 5 MPH (320 deg)  Potential Tropical Cyclone  Fourteen   \n",
       "4  NNW at 3 MPH (340 deg)         Tropical Depression  FOURTEEN   \n",
       "\n",
       "          Received Forecaster                      Coordinates  \n",
       "0  10/6/2018 16:50      Beven    POINT (-86.59999999999999 18)  \n",
       "1  10/6/2018 19:32      Avila  POINT (-86.59999999999999 18.3)  \n",
       "2  10/6/2018 22:38      Avila  POINT (-86.59999999999999 18.8)  \n",
       "3   10/7/2018 1:38       Berg  POINT (-87.09999999999999 18.4)  \n",
       "4   10/7/2018 4:53       Berg  POINT (-86.90000000000001 18.6)  "
      ]
     },
     "execution_count": 9,
     "metadata": {},
     "output_type": "execute_result"
    }
   ],
   "source": [
    "hurricaneM_df.head()"
   ]
  },
  {
   "cell_type": "code",
   "execution_count": 15,
   "metadata": {},
   "outputs": [],
   "source": [
    "#create a geolocation dataframe type using the coordinates column as the geolocation data\n",
    "geo_hurricaneM = gpd.GeoDataFrame(hurricaneM_df, geometry='Coordinates')"
   ]
  },
  {
   "cell_type": "code",
   "execution_count": 16,
   "metadata": {},
   "outputs": [
    {
     "data": {
      "text/html": [
       "<div>\n",
       "<style scoped>\n",
       "    .dataframe tbody tr th:only-of-type {\n",
       "        vertical-align: middle;\n",
       "    }\n",
       "\n",
       "    .dataframe tbody tr th {\n",
       "        vertical-align: top;\n",
       "    }\n",
       "\n",
       "    .dataframe thead th {\n",
       "        text-align: right;\n",
       "    }\n",
       "</style>\n",
       "<table border=\"1\" class=\"dataframe\">\n",
       "  <thead>\n",
       "    <tr style=\"text-align: right;\">\n",
       "      <th></th>\n",
       "      <th>GEO_ID</th>\n",
       "      <th>STATE</th>\n",
       "      <th>NAME</th>\n",
       "      <th>LSAD</th>\n",
       "      <th>CENSUSAREA</th>\n",
       "      <th>geometry</th>\n",
       "    </tr>\n",
       "  </thead>\n",
       "  <tbody>\n",
       "    <tr>\n",
       "      <th>0</th>\n",
       "      <td>0400000US01</td>\n",
       "      <td>01</td>\n",
       "      <td>Alabama</td>\n",
       "      <td></td>\n",
       "      <td>50645.326</td>\n",
       "      <td>(POLYGON ((-88.124658 30.28364, -88.0868119999...</td>\n",
       "    </tr>\n",
       "    <tr>\n",
       "      <th>1</th>\n",
       "      <td>0400000US02</td>\n",
       "      <td>02</td>\n",
       "      <td>Alaska</td>\n",
       "      <td></td>\n",
       "      <td>570640.950</td>\n",
       "      <td>(POLYGON ((-166.10574 53.988606, -166.075283 5...</td>\n",
       "    </tr>\n",
       "    <tr>\n",
       "      <th>2</th>\n",
       "      <td>0400000US04</td>\n",
       "      <td>04</td>\n",
       "      <td>Arizona</td>\n",
       "      <td></td>\n",
       "      <td>113594.084</td>\n",
       "      <td>POLYGON ((-112.538593 37.000674, -112.534545 3...</td>\n",
       "    </tr>\n",
       "    <tr>\n",
       "      <th>3</th>\n",
       "      <td>0400000US05</td>\n",
       "      <td>05</td>\n",
       "      <td>Arkansas</td>\n",
       "      <td></td>\n",
       "      <td>52035.477</td>\n",
       "      <td>POLYGON ((-94.042964 33.019219, -94.043036 33....</td>\n",
       "    </tr>\n",
       "    <tr>\n",
       "      <th>4</th>\n",
       "      <td>0400000US06</td>\n",
       "      <td>06</td>\n",
       "      <td>California</td>\n",
       "      <td></td>\n",
       "      <td>155779.220</td>\n",
       "      <td>(POLYGON ((-122.421439 37.869969, -122.421341 ...</td>\n",
       "    </tr>\n",
       "  </tbody>\n",
       "</table>\n",
       "</div>"
      ],
      "text/plain": [
       "        GEO_ID STATE        NAME LSAD  CENSUSAREA  \\\n",
       "0  0400000US01    01     Alabama        50645.326   \n",
       "1  0400000US02    02      Alaska       570640.950   \n",
       "2  0400000US04    04     Arizona       113594.084   \n",
       "3  0400000US05    05    Arkansas        52035.477   \n",
       "4  0400000US06    06  California       155779.220   \n",
       "\n",
       "                                            geometry  \n",
       "0  (POLYGON ((-88.124658 30.28364, -88.0868119999...  \n",
       "1  (POLYGON ((-166.10574 53.988606, -166.075283 5...  \n",
       "2  POLYGON ((-112.538593 37.000674, -112.534545 3...  \n",
       "3  POLYGON ((-94.042964 33.019219, -94.043036 33....  \n",
       "4  (POLYGON ((-122.421439 37.869969, -122.421341 ...  "
      ]
     },
     "execution_count": 16,
     "metadata": {},
     "output_type": "execute_result"
    }
   ],
   "source": [
    "#import file that contains a world map shape polygons\n",
    "#will use to plot the coordinates of Hurricane Michael\n",
    "filepath = r\"C:\\Users\\GBTC408003ur\\Documents\\ImmersiveDataAnalytics\\Week4\\datasets\\US_states(5m).json\"\n",
    "\n",
    "#data contains polygon shape coordinates for different map body types (continents, etc.)\n",
    "map_df = gpd.read_file(filepath)\n",
    "map_df.head()"
   ]
  },
  {
   "cell_type": "code",
   "execution_count": 17,
   "metadata": {},
   "outputs": [],
   "source": [
    "#After loading the US_states(5m).json file as a geodataframe, use the following code to create a geodataframe that only contains the contiguous United States (48 states):\n",
    "map48 = map_df.loc[map_df['NAME'].isin(['Alaska', 'Hawaii', 'Puerto Rico']) == False]"
   ]
  },
  {
   "cell_type": "code",
   "execution_count": 18,
   "metadata": {},
   "outputs": [
    {
     "data": {
      "text/plain": [
       "<matplotlib.axes._subplots.AxesSubplot at 0x25ce6abc828>"
      ]
     },
     "execution_count": 18,
     "metadata": {},
     "output_type": "execute_result"
    },
    {
     "data": {
      "image/png": "[encoded data removed]",
      "text/plain": [
       "<Figure size 432x288 with 1 Axes>"
      ]
     },
     "metadata": {
      "needs_background": "light"
     },
     "output_type": "display_data"
    }
   ],
   "source": [
    "#map graph\n",
    "map48.plot()"
   ]
  },
  {
   "cell_type": "code",
   "execution_count": 19,
   "metadata": {},
   "outputs": [
    {
     "data": {
      "text/plain": [
       "<matplotlib.axes._subplots.AxesSubplot at 0x25ce6bc7b70>"
      ]
     },
     "execution_count": 19,
     "metadata": {},
     "output_type": "execute_result"
    },
    {
     "data": {
      "image/png": "[encoded data removed]",
      "text/plain": [
       "<Figure size 432x288 with 1 Axes>"
      ]
     },
     "metadata": {
      "needs_background": "light"
     },
     "output_type": "display_data"
    }
   ],
   "source": [
    "#plot the coordinates (no map)\n",
    "geo_hurricaneM.plot()"
   ]
  },
  {
   "cell_type": "code",
   "execution_count": 21,
   "metadata": {},
   "outputs": [
    {
     "data": {
      "text/plain": [
       "Text(0.5, 1.0, 'Path of Hurricane Michael')"
      ]
     },
     "execution_count": 21,
     "metadata": {},
     "output_type": "execute_result"
    },
    {
     "data": {
      "image/png": "[encoded data removed]",
      "text/plain": [
       "<Figure size 1080x720 with 1 Axes>"
      ]
     },
     "metadata": {
      "needs_background": "light"
     },
     "output_type": "display_data"
    }
   ],
   "source": [
    "#plot coordinates on top of map graph\n",
    "\n",
    "#this is to set the size of the borders\n",
    "fig, ax = plt.subplots(1, figsize=(15,10))\n",
    "\n",
    "#this is the map\n",
    "basemap = map48.plot(ax=ax)\n",
    "\n",
    "#plot coordinates on top of map graph\n",
    "geo_hurricaneM.plot(ax=basemap, color='darkred', marker=\".\", markersize=50)\n",
    "\n",
    "#take off axis numbers\n",
    "ax.axis('off')\n",
    "\n",
    "#put title on map\n",
    "ax.set_title(\"Path of Hurricane Michael\", fontsize=25, fontweight=3)"
   ]
  }
 ],
 "metadata": {
  "kernelspec": {
   "display_name": "Python 3",
   "language": "python",
   "name": "python3"
  },
  "language_info": {
   "codemirror_mode": {
    "name": "ipython",
    "version": 3
   },
   "file_extension": ".py",
   "mimetype": "text/x-python",
   "name": "python",
   "nbconvert_exporter": "python",
   "pygments_lexer": "ipython3",
   "version": "3.6.8"
  }
 },
 "nbformat": 4,
 "nbformat_minor": 2
}
